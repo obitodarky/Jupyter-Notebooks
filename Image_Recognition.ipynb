{
  "nbformat": 4,
  "nbformat_minor": 0,
  "metadata": {
    "colab": {
      "name": "Image Recognition.ipynb",
      "version": "0.3.2",
      "provenance": []
    },
    "kernelspec": {
      "name": "python3",
      "display_name": "Python 3"
    }
  },
  "cells": [
    {
      "metadata": {
        "id": "RQfZjMpTBW4v",
        "colab_type": "code",
        "colab": {}
      },
      "cell_type": "code",
      "source": [
        "import numpy\n",
        "import tensorflow as tf\n",
        "import random\n",
        "import matplotlib.pyplot as plt\n",
        "import datetime\n"
      ],
      "execution_count": 0,
      "outputs": []
    },
    {
      "metadata": {
        "id": "cpNEl9e3Bo3u",
        "colab_type": "code",
        "outputId": "b6499631-8d7e-4ad3-d250-9cdda97aacec",
        "colab": {
          "base_uri": "https://localhost:8080/",
          "height": 550
        }
      },
      "cell_type": "code",
      "source": [
        "from tensorflow.examples.tutorials.mnist import input_data\n",
        "\n",
        "mnist = input_data.read_data_sets(\"MNIST_data/\" ,one_hot = True)"
      ],
      "execution_count": 2,
      "outputs": [
        {
          "output_type": "stream",
          "text": [
            "WARNING:tensorflow:From <ipython-input-2-e375267b6b5d>:3: read_data_sets (from tensorflow.contrib.learn.python.learn.datasets.mnist) is deprecated and will be removed in a future version.\n",
            "Instructions for updating:\n",
            "Please use alternatives such as official/mnist/dataset.py from tensorflow/models.\n",
            "WARNING:tensorflow:From /usr/local/lib/python3.6/dist-packages/tensorflow/contrib/learn/python/learn/datasets/mnist.py:260: maybe_download (from tensorflow.contrib.learn.python.learn.datasets.base) is deprecated and will be removed in a future version.\n",
            "Instructions for updating:\n",
            "Please write your own downloading logic.\n",
            "WARNING:tensorflow:From /usr/local/lib/python3.6/dist-packages/tensorflow/contrib/learn/python/learn/datasets/base.py:252: _internal_retry.<locals>.wrap.<locals>.wrapped_fn (from tensorflow.contrib.learn.python.learn.datasets.base) is deprecated and will be removed in a future version.\n",
            "Instructions for updating:\n",
            "Please use urllib or similar directly.\n",
            "Successfully downloaded train-images-idx3-ubyte.gz 9912422 bytes.\n",
            "WARNING:tensorflow:From /usr/local/lib/python3.6/dist-packages/tensorflow/contrib/learn/python/learn/datasets/mnist.py:262: extract_images (from tensorflow.contrib.learn.python.learn.datasets.mnist) is deprecated and will be removed in a future version.\n",
            "Instructions for updating:\n",
            "Please use tf.data to implement this functionality.\n",
            "Extracting MNIST_data/train-images-idx3-ubyte.gz\n",
            "Successfully downloaded train-labels-idx1-ubyte.gz 28881 bytes.\n",
            "WARNING:tensorflow:From /usr/local/lib/python3.6/dist-packages/tensorflow/contrib/learn/python/learn/datasets/mnist.py:267: extract_labels (from tensorflow.contrib.learn.python.learn.datasets.mnist) is deprecated and will be removed in a future version.\n",
            "Instructions for updating:\n",
            "Please use tf.data to implement this functionality.\n",
            "Extracting MNIST_data/train-labels-idx1-ubyte.gz\n",
            "WARNING:tensorflow:From /usr/local/lib/python3.6/dist-packages/tensorflow/contrib/learn/python/learn/datasets/mnist.py:110: dense_to_one_hot (from tensorflow.contrib.learn.python.learn.datasets.mnist) is deprecated and will be removed in a future version.\n",
            "Instructions for updating:\n",
            "Please use tf.one_hot on tensors.\n",
            "Successfully downloaded t10k-images-idx3-ubyte.gz 1648877 bytes.\n",
            "Extracting MNIST_data/t10k-images-idx3-ubyte.gz\n",
            "Successfully downloaded t10k-labels-idx1-ubyte.gz 4542 bytes.\n",
            "Extracting MNIST_data/t10k-labels-idx1-ubyte.gz\n",
            "WARNING:tensorflow:From /usr/local/lib/python3.6/dist-packages/tensorflow/contrib/learn/python/learn/datasets/mnist.py:290: DataSet.__init__ (from tensorflow.contrib.learn.python.learn.datasets.mnist) is deprecated and will be removed in a future version.\n",
            "Instructions for updating:\n",
            "Please use alternatives such as official/mnist/dataset.py from tensorflow/models.\n"
          ],
          "name": "stdout"
        }
      ]
    },
    {
      "metadata": {
        "id": "StBRmH17CcJ7",
        "colab_type": "code",
        "colab": {}
      },
      "cell_type": "code",
      "source": [
        "tf.reset_default_graph()\n",
        "\n",
        "sess = tf.InteractiveSession()\n",
        "x = tf.placeholder(\"float\" , shape = [None , 28 , 28 , 1])\n",
        "\n",
        "y_ = tf.placeholder(\"float\" , shape = [None, 10])"
      ],
      "execution_count": 0,
      "outputs": []
    },
    {
      "metadata": {
        "id": "1fl3_dqoDh2Z",
        "colab_type": "code",
        "colab": {}
      },
      "cell_type": "code",
      "source": [
        "w_convl = tf.Variable(tf.truncated_normal([5,5,1,32] , stddev = 0.1))\n",
        "b_convl = tf.Variable(tf.constant(.1 , shape = [32]))"
      ],
      "execution_count": 0,
      "outputs": []
    },
    {
      "metadata": {
        "id": "ojc3J12cFOt2",
        "colab_type": "code",
        "outputId": "809ea505-ef68-4cb1-ee8d-40b4641c1265",
        "colab": {
          "base_uri": "https://localhost:8080/",
          "height": 51
        }
      },
      "cell_type": "code",
      "source": [
        "print(x)\n",
        "print(w_convl)\n",
        "h_convl = tf.nn.conv2d(input = x , filter = w_convl, strides = [1,1,1,1] , padding = \"SAME\") + b_convl\n",
        "h_convl = tf.nn.relu(h_convl)\n",
        "h_pool1 = tf.nn.max_pool(h_convl , ksize = [1 , 2 ,2 , 1 ] , strides = [1, 2, 2, 1 ] , padding = \"SAME\")"
      ],
      "execution_count": 5,
      "outputs": [
        {
          "output_type": "stream",
          "text": [
            "Tensor(\"Placeholder:0\", shape=(?, 28, 28, 1), dtype=float32)\n",
            "<tf.Variable 'Variable:0' shape=(5, 5, 1, 32) dtype=float32_ref>\n"
          ],
          "name": "stdout"
        }
      ]
    },
    {
      "metadata": {
        "id": "XxWOpG0nJWNT",
        "colab_type": "code",
        "colab": {}
      },
      "cell_type": "code",
      "source": [
        "def conv2d(x, w):\n",
        "  return tf.nn.conv2d(input = x , filter = w, strides = [1,1,1,1] , padding = \"SAME\")\n",
        "\n",
        "def max_pool_2x2(x):\n",
        "  return tf.nn.max_pool(x , ksize = [1 , 2 ,2 , 1 ] , strides = [1, 2, 2, 1 ] , padding = \"SAME\")"
      ],
      "execution_count": 0,
      "outputs": []
    },
    {
      "metadata": {
        "id": "3z6fBvrAKtAr",
        "colab_type": "code",
        "colab": {}
      },
      "cell_type": "code",
      "source": [
        "#Second Conv and pool layers\n",
        "\n",
        "w_conv2 = tf.Variable(tf.truncated_normal([5,5,32,64] , stddev = 0.1))\n",
        "b_conv2 = tf.Variable(tf.constant(.1, shape = [64]))\n",
        "\n",
        "h_conv2 = tf.nn.relu(conv2d(h_pool1 , w_conv2) + b_conv2)\n",
        "h_pool2 = max_pool_2x2(h_conv2)\n",
        "\n",
        "#First fully connected layer\n",
        "\n",
        "\n",
        "w_fcl = tf.Variable(tf.truncated_normal([7*7*64, 1024], stddev = 0.1))\n",
        "b_fcl = tf.Variable(tf.constant(.1 , shape = [1024]))\n",
        "h_pool2_flat = tf.reshape(h_pool2, [-1 , 7*7*64])\n",
        "h_fcl = tf.nn.relu(tf.matmul(h_pool2_flat , w_fcl) + b_fcl)\n",
        "\n",
        "                    \n",
        "#Output layer\n",
        "\n",
        "keep_prob = tf.placeholder(\"float\")\n",
        "h_fcl_drop = tf.nn.dropout(h_fcl, keep_prob )\n",
        "\n",
        "#Second Fully Connected Layer\n",
        "\n",
        "w_fc2 = tf.Variable(tf.truncated_normal([1024, 10] , stddev = 0.1))\n",
        "b_fc2 = tf.Variable(tf.constant(.1 , shape = [10]))\n",
        "              \n",
        "#Final Layer\n",
        "\n",
        "y = tf.matmul(h_fcl_drop , w_fc2) + b_fc2\n"
      ],
      "execution_count": 0,
      "outputs": []
    },
    {
      "metadata": {
        "id": "NObYGzTBPlSt",
        "colab_type": "code",
        "outputId": "2720f4b6-b11f-4206-b3bb-a4d13f4aeaf3",
        "colab": {
          "base_uri": "https://localhost:8080/",
          "height": 193
        }
      },
      "cell_type": "code",
      "source": [
        "crossEntropyLoss = tf.reduce_mean(tf.nn.softmax_cross_entropy_with_logits(labels = y_ , logits = y))"
      ],
      "execution_count": 8,
      "outputs": [
        {
          "output_type": "stream",
          "text": [
            "WARNING:tensorflow:From <ipython-input-8-1692e4ada9c2>:1: softmax_cross_entropy_with_logits (from tensorflow.python.ops.nn_ops) is deprecated and will be removed in a future version.\n",
            "Instructions for updating:\n",
            "\n",
            "Future major versions of TensorFlow will allow gradients to flow\n",
            "into the labels input on backprop by default.\n",
            "\n",
            "See `tf.nn.softmax_cross_entropy_with_logits_v2`.\n",
            "\n"
          ],
          "name": "stdout"
        }
      ]
    },
    {
      "metadata": {
        "id": "1nNuyJ-aRI8v",
        "colab_type": "code",
        "colab": {}
      },
      "cell_type": "code",
      "source": [
        "trainStep = tf.train.AdamOptimizer().minimize(crossEntropyLoss)"
      ],
      "execution_count": 0,
      "outputs": []
    },
    {
      "metadata": {
        "id": "inQIBmZ7Rgbd",
        "colab_type": "code",
        "colab": {}
      },
      "cell_type": "code",
      "source": [
        "#Steps for Calculating Accuracy\n",
        "\n",
        "correct_prediction = tf.equal(tf.argmax(y,1) , tf.argmax(y_ , 1))\n",
        "accuracy = tf.reduce_mean(tf.cast(correct_prediction ,  'float'))\n",
        "\n"
      ],
      "execution_count": 0,
      "outputs": []
    },
    {
      "metadata": {
        "id": "Tde1Dz-hSRqr",
        "colab_type": "code",
        "colab": {}
      },
      "cell_type": "code",
      "source": [
        "sess.run(tf.global_variables_initializer())"
      ],
      "execution_count": 0,
      "outputs": []
    },
    {
      "metadata": {
        "id": "Jv3sped_ScLc",
        "colab_type": "code",
        "outputId": "a5065257-0c3a-47c7-9313-2595030070c0",
        "colab": {
          "base_uri": "https://localhost:8080/",
          "height": 34
        }
      },
      "cell_type": "code",
      "source": [
        "tf.summary.scalar('Cross Entropy Loss' , crossEntropyLoss)\n",
        "tf.summary.scalar('Accuracy' , accuracy)\n",
        "merged = tf.summary.merge_all()\n",
        "logdir = 'tensorboard/' + datetime.datetime.now().strftime(\"\\Y\\m\\d - \\h\\m\\s\")\n",
        "\n",
        "writer = tf.summary.FileWriter(logdir, sess.graph)"
      ],
      "execution_count": 12,
      "outputs": [
        {
          "output_type": "stream",
          "text": [
            "INFO:tensorflow:Summary name Cross Entropy Loss is illegal; using Cross_Entropy_Loss instead.\n"
          ],
          "name": "stdout"
        }
      ]
    },
    {
      "metadata": {
        "id": "n1KhKtVZTSmW",
        "colab_type": "code",
        "outputId": "98974e2c-0854-47ff-90c6-a710d3b816a1",
        "colab": {
          "base_uri": "https://localhost:8080/",
          "height": 381
        }
      },
      "cell_type": "code",
      "source": [
        "b = mnist.train.next_batch(1)\n",
        "print(b[0].shape) #b[0] contains the image\n",
        "image = tf.reshape(b[0],  [-1,28,28,1])\n",
        "print(image)\n",
        "my_img = image.eval()\n",
        "my_i = my_img.squeeze()\n",
        "plt.imshow(my_i, cmap = \"gray_r\")\n",
        "plt.show()"
      ],
      "execution_count": 13,
      "outputs": [
        {
          "output_type": "stream",
          "text": [
            "(1, 784)\n",
            "Tensor(\"Reshape_1:0\", shape=(1, 28, 28, 1), dtype=float32)\n"
          ],
          "name": "stdout"
        },
        {
          "output_type": "display_data",
          "data": {
            "image/png": "[encoded data removed]",
            "text/plain": [
              "<matplotlib.figure.Figure at 0x7fb38f9c79e8>"
            ]
          },
          "metadata": {
            "tags": []
          }
        }
      ]
    },
    {
      "metadata": {
        "id": "Wuudf8OcUHcd",
        "colab_type": "code",
        "outputId": "991ea17e-b338-49dd-97b2-d4e526606250",
        "colab": {
          "base_uri": "https://localhost:8080/",
          "height": 187
        }
      },
      "cell_type": "code",
      "source": [
        "batchSize = 50\n",
        "for i in range(1,1001):\n",
        "  batch = mnist.train.next_batch(batchSize)\n",
        "  trainingInputs = batch[0].reshape(batchSize , 28 , 28 ,1 )\n",
        "  trainingLabels = batch[1]\n",
        "  if i%10 == 0:\n",
        "    summary = sess.run(merged , {x: trainingInputs ,  y_ : trainingLabels , keep_prob: 1.0})\n",
        "    writer.add_summary(summary ,1 )\n",
        "  if i%100 == 0:\n",
        "    trainAccuracy = accuracy.eval(session = sess , feed_dict = {x : trainingInputs , y_ : trainingLabels , keep_prob: 0.5})\n",
        "    print(\"Step %d : training accuracy %g\" % (i , trainAccuracy) )\n",
        "  trainStep.run(session = sess , feed_dict = {x: trainingInputs , y_ : trainingLabels , keep_prob: 1.0})"
      ],
      "execution_count": 14,
      "outputs": [
        {
          "output_type": "stream",
          "text": [
            "Step 100 : training accuracy 0.78\n",
            "Step 200 : training accuracy 0.92\n",
            "Step 300 : training accuracy 0.92\n",
            "Step 400 : training accuracy 0.96\n",
            "Step 500 : training accuracy 1\n",
            "Step 600 : training accuracy 0.98\n",
            "Step 700 : training accuracy 0.94\n",
            "Step 800 : training accuracy 0.96\n",
            "Step 900 : training accuracy 0.94\n",
            "Step 1000 : training accuracy 0.98\n"
          ],
          "name": "stdout"
        }
      ]
    },
    {
      "metadata": {
        "id": "Qh3prdzwY4fV",
        "colab_type": "code",
        "outputId": "4a601c99-c6a8-4f9b-f3de-4ea08cab4c8e",
        "colab": {
          "base_uri": "https://localhost:8080/",
          "height": 34
        }
      },
      "cell_type": "code",
      "source": [
        "testingInputs = mnist.test.images.reshape([-1 , 28 , 28 , 1])\n",
        "testLabels = mnist.test.labels\n",
        "acc = accuracy.eval(feed_dict= {x: testingInputs , y_: testLabels , keep_prob: 1.0})\n",
        "print(\"testing accuracy : {}\".format(acc))"
      ],
      "execution_count": 15,
      "outputs": [
        {
          "output_type": "stream",
          "text": [
            "testing accuracy : 0.9804999828338623\n"
          ],
          "name": "stdout"
        }
      ]
    }
  ]
}