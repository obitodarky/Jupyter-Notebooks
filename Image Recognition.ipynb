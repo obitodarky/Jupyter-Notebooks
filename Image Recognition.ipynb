{
 "cells": [
  {
   "cell_type": "code",
   "execution_count": 1,
   "metadata": {},
   "outputs": [],
   "source": [
    "import numpy\n",
    "import tensorflow as tf\n",
    "import random\n",
    "import matplotlib.pyplot as plt\n",
    "import datetime\n",
    "\n",
    "sess = tf.InteractiveSession()\n",
    "x = tf.placeholder(\"float\" , shape = [None , 28 , 28 , 1])\n",
    "\n",
    "y_ = tf.placeholder(\"float\" , shape = [None, 10])\n"
   ]
  },
  {
   "cell_type": "code",
   "execution_count": 2,
   "metadata": {},
   "outputs": [
    {
     "name": "stdout",
     "output_type": "stream",
     "text": [
      "WARNING:tensorflow:From <ipython-input-2-e375267b6b5d>:3: read_data_sets (from tensorflow.contrib.learn.python.learn.datasets.mnist) is deprecated and will be removed in a future version.\n",
      "Instructions for updating:\n",
      "Please use alternatives such as official/mnist/dataset.py from tensorflow/models.\n",
      "WARNING:tensorflow:From /anaconda3/lib/python3.6/site-packages/tensorflow/contrib/learn/python/learn/datasets/mnist.py:260: maybe_download (from tensorflow.contrib.learn.python.learn.datasets.base) is deprecated and will be removed in a future version.\n",
      "Instructions for updating:\n",
      "Please write your own downloading logic.\n",
      "WARNING:tensorflow:From /anaconda3/lib/python3.6/site-packages/tensorflow/contrib/learn/python/learn/datasets/mnist.py:262: extract_images (from tensorflow.contrib.learn.python.learn.datasets.mnist) is deprecated and will be removed in a future version.\n",
      "Instructions for updating:\n",
      "Please use tf.data to implement this functionality.\n",
      "Extracting MNIST_data/train-images-idx3-ubyte.gz\n",
      "WARNING:tensorflow:From /anaconda3/lib/python3.6/site-packages/tensorflow/contrib/learn/python/learn/datasets/mnist.py:267: extract_labels (from tensorflow.contrib.learn.python.learn.datasets.mnist) is deprecated and will be removed in a future version.\n",
      "Instructions for updating:\n",
      "Please use tf.data to implement this functionality.\n",
      "Extracting MNIST_data/train-labels-idx1-ubyte.gz\n",
      "WARNING:tensorflow:From /anaconda3/lib/python3.6/site-packages/tensorflow/contrib/learn/python/learn/datasets/mnist.py:110: dense_to_one_hot (from tensorflow.contrib.learn.python.learn.datasets.mnist) is deprecated and will be removed in a future version.\n",
      "Instructions for updating:\n",
      "Please use tf.one_hot on tensors.\n",
      "Extracting MNIST_data/t10k-images-idx3-ubyte.gz\n",
      "Extracting MNIST_data/t10k-labels-idx1-ubyte.gz\n",
      "WARNING:tensorflow:From /anaconda3/lib/python3.6/site-packages/tensorflow/contrib/learn/python/learn/datasets/mnist.py:290: DataSet.__init__ (from tensorflow.contrib.learn.python.learn.datasets.mnist) is deprecated and will be removed in a future version.\n",
      "Instructions for updating:\n",
      "Please use alternatives such as official/mnist/dataset.py from tensorflow/models.\n"
     ]
    }
   ],
   "source": [
    "from tensorflow.examples.tutorials.mnist import input_data\n",
    "\n",
    "mnist = input_data.read_data_sets(\"MNIST_data/\" ,one_hot = True)"
   ]
  },
  {
   "cell_type": "code",
   "execution_count": 3,
   "metadata": {},
   "outputs": [
    {
     "name": "stderr",
     "output_type": "stream",
     "text": [
      "/anaconda3/lib/python3.6/site-packages/tensorflow/python/client/session.py:1702: UserWarning: An interactive session is already active. This can cause out-of-memory errors in some cases. You must explicitly call `InteractiveSession.close()` to release resources held by the other session(s).\n",
      "  warnings.warn('An interactive session is already active. This can '\n"
     ]
    }
   ],
   "source": [
    "tf.reset_default_graph()\n",
    "\n",
    "\n",
    "\n",
    "sess = tf.InteractiveSession()\n",
    "x = tf.placeholder(\"float\" , shape = [None , 28 , 28 , 1])\n",
    "\n",
    "y_ = tf.placeholder(\"float\" , shape = [None, 10])"
   ]
  },
  {
   "cell_type": "code",
   "execution_count": 4,
   "metadata": {},
   "outputs": [],
   "source": [
    "w_convl = tf.Variable(tf.truncated_normal([5,5,1,32] , stddev = 0.1))\n",
    "b_convl = tf.Variable(tf.constant(.1 , shape = [32]))"
   ]
  },
  {
   "cell_type": "code",
   "execution_count": null,
   "metadata": {},
   "outputs": [
    {
     "name": "stdout",
     "output_type": "stream",
     "text": [
      "Tensor(\"Placeholder:0\", shape=(?, 28, 28, 1), dtype=float32)\n",
      "<tf.Variable 'Variable:0' shape=(5, 5, 1, 32) dtype=float32_ref>\n"
     ]
    }
   ],
   "source": [
    "print(x)\n",
    "print(w_convl)\n",
    "h_convl = tf.nn.conv2d(input = x , filter = w_convl, strides = [1,1,1,1] , padding = \"SAME\") + b_convl\n",
    "h_convl = tf.nn.relu(h_convl)\n",
    "h_pool1 = tf.nn.max_pool(h_convl , ksize = [1 , 2 ,2 , 1 ] , strides = [1, 2, 2, 1 ] , padding = \"SAME\")"
   ]
  },
  {
   "cell_type": "code",
   "execution_count": null,
   "metadata": {},
   "outputs": [],
   "source": [
    "def conv2d(x, w):\n",
    "  return tf.nn.conv2d(input = x , filter = w, strides = [1,1,1,1] , padding = \"SAME\")\n",
    "\n",
    "def max_pool_2x2(x):\n",
    "  return tf.nn.max_pool(x , ksize = [1 , 2 ,2 , 1 ] , strides = [1, 2, 2, 1 ] , padding = \"SAME\")"
   ]
  },
  {
   "cell_type": "code",
   "execution_count": null,
   "metadata": {},
   "outputs": [],
   "source": [
    "#Second Conv and pool layers\n",
    "\n",
    "w_conv2 = tf.Variable(tf.truncated_normal([5,5,32,64] , stddev = 0.1))\n",
    "b_conv2 = tf.Variable(tf.constant(.1, shape = [64]))\n",
    "\n",
    "h_conv2 = tf.nn.relu(conv2d(h_pool1 , w_conv2) + b_conv2)\n",
    "h_pool2 = max_pool_2x2(h_conv2)\n",
    "\n",
    "#First fully connected layer\n",
    "\n",
    "\n",
    "w_fcl = tf.Variable(tf.truncated_normal([7*7*64, 1024], stddev = 0.1))\n",
    "b_fcl = tf.Variable(tf.constant(.1 , shape = [1024]))\n",
    "h_pool2_flat = tf.reshape(h_pool2, [-1 , 7*7*64])\n",
    "h_fcl = tf.nn.relu(tf.matmul(h_pool2_flat , w_fcl) + b_fcl)\n",
    "\n",
    "                    \n",
    "#Output layer\n",
    "\n",
    "keep_prob = tf.placeholder(\"float\")\n",
    "h_fcl_drop = tf.nn.dropout(h_fcl, keep_prob )\n",
    "\n",
    "#Second Fully Connected Layer\n",
    "\n",
    "w_fc2 = tf.Variable(tf.truncated_normal([1024, 10] , stddev = 0.1))\n",
    "b_fc2 = tf.Variable(tf.constant(.1 , shape = [10]))\n",
    "              \n",
    "#Final Layer\n",
    "\n",
    "y = tf.matmul(h_fcl_drop , w_fc2) + b_fc2"
   ]
  },
  {
   "cell_type": "code",
   "execution_count": null,
   "metadata": {},
   "outputs": [
    {
     "name": "stdout",
     "output_type": "stream",
     "text": [
      "WARNING:tensorflow:From <ipython-input-8-1692e4ada9c2>:1: softmax_cross_entropy_with_logits (from tensorflow.python.ops.nn_ops) is deprecated and will be removed in a future version.\n",
      "Instructions for updating:\n",
      "\n",
      "Future major versions of TensorFlow will allow gradients to flow\n",
      "into the labels input on backprop by default.\n",
      "\n",
      "See `tf.nn.softmax_cross_entropy_with_logits_v2`.\n",
      "\n"
     ]
    }
   ],
   "source": [
    "crossEntropyLoss = tf.reduce_mean(tf.nn.softmax_cross_entropy_with_logits(labels = y_ , logits = y))"
   ]
  },
  {
   "cell_type": "code",
   "execution_count": null,
   "metadata": {},
   "outputs": [],
   "source": [
    "trainStep = tf.train.AdamOptimizer().minimize(crossEntropyLoss)"
   ]
  },
  {
   "cell_type": "code",
   "execution_count": null,
   "metadata": {},
   "outputs": [],
   "source": [
    "#Steps for Calculating Accuracy\n",
    "\n",
    "correct_prediction = tf.equal(tf.argmax(y,1) , tf.argmax(y_ , 1))\n",
    "accuracy = tf.reduce_mean(tf.cast(correct_prediction ,  'float'))"
   ]
  },
  {
   "cell_type": "code",
   "execution_count": null,
   "metadata": {},
   "outputs": [],
   "source": [
    "sess.run(tf.global_variables_initializer())"
   ]
  },
  {
   "cell_type": "code",
   "execution_count": null,
   "metadata": {},
   "outputs": [
    {
     "name": "stdout",
     "output_type": "stream",
     "text": [
      "INFO:tensorflow:Summary name Cross Entropy Loss is illegal; using Cross_Entropy_Loss instead.\n"
     ]
    }
   ],
   "source": [
    "tf.summary.scalar('Cross Entropy Loss' , crossEntropyLoss)\n",
    "tf.summary.scalar('Accuracy' , accuracy)\n",
    "merged = tf.summary.merge_all()\n",
    "logdir = 'tensorboard/' + datetime.datetime.now().strftime(\"\\Y\\m\\d - \\h\\m\\s\")\n",
    "\n",
    "writer = tf.summary.FileWriter(logdir, sess.graph)\n"
   ]
  },
  {
   "cell_type": "code",
   "execution_count": null,
   "metadata": {},
   "outputs": [
    {
     "name": "stdout",
     "output_type": "stream",
     "text": [
      "(1, 784)\n",
      "Tensor(\"Reshape_1:0\", shape=(1, 28, 28, 1), dtype=float32)\n"
     ]
    },
    {
     "data": {
      "image/png": "[encoded data removed]",
      "text/plain": [
       "<Figure size 432x288 with 1 Axes>"
      ]
     },
     "metadata": {
      "needs_background": "light"
     },
     "output_type": "display_data"
    }
   ],
   "source": [
    "b = mnist.train.next_batch(1)\n",
    "print(b[0].shape) #b[0] contains the image\n",
    "image = tf.reshape(b[0],  [-1,28,28,1])\n",
    "print(image)\n",
    "my_img = image.eval()\n",
    "my_i = my_img.squeeze()\n",
    "plt.imshow(my_i, cmap = \"gray_r\")\n",
    "plt.show()"
   ]
  },
  {
   "cell_type": "code",
   "execution_count": null,
   "metadata": {},
   "outputs": [],
   "source": [
    "batchSize = 50\n",
    "for i in range(1,1001):\n",
    "  batch = mnist.train.next_batch(batchSize)\n",
    "  trainingInputs = batch[0].reshape(batchSize , 28 , 28 ,1 )\n",
    "  trainingLabels = batch[1]\n",
    "  if i%10 == 0:\n",
    "    summary = sess.run(merged , {x: trainingInputs ,  y_ : trainingLabels , keep_prob: 1.0})\n",
    "    writer.add_summary(summary ,1 )\n",
    "  if i%100 == 0:\n",
    "    trainAccuracy = accuracy.eval(session = sess , feed_dict = {x : trainingInputs , y_ : trainingLabels , keep_prob: 0.5})\n",
    "    print(\"Step %d : training accuracy %g\" % (i , trainAccuracy) )\n",
    "  trainStep.run(session = sess , feed_dict = {x: trainingInputs , y_ : trainingLabels , keep_prob: 1.0})"
   ]
  },
  {
   "cell_type": "code",
   "execution_count": null,
   "metadata": {},
   "outputs": [],
   "source": [
    "testingInputs = mnist.test.images.reshape([-1 , 28 , 28 , 1])\n",
    "testLabels = mnist.test.labels\n",
    "acc = accuracy.eval(feed_dict= {x: testingInputs , y_: testLabels , keep_prob: 1.0})\n",
    "print(\"testing accuracy : {}\".format(acc))"
   ]
  },
  {
   "cell_type": "code",
   "execution_count": null,
   "metadata": {},
   "outputs": [],
   "source": [
    "InteractiveSession.close()"
   ]
  },
  {
   "cell_type": "code",
   "execution_count": null,
   "metadata": {},
   "outputs": [],
   "source": []
  }
 ],
 "metadata": {
  "kernelspec": {
   "display_name": "Python 3",
   "language": "python",
   "name": "python3"
  },
  "language_info": {
   "codemirror_mode": {
    "name": "ipython",
    "version": 3
   },
   "file_extension": ".py",
   "mimetype": "text/x-python",
   "name": "python",
   "nbconvert_exporter": "python",
   "pygments_lexer": "ipython3",
   "version": "3.6.6"
  }
 },
 "nbformat": 4,
 "nbformat_minor": 2
}
